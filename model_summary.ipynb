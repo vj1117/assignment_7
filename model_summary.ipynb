{
 "cells": [
  {
   "cell_type": "code",
   "execution_count": 7,
   "id": "0e7bd4ff",
   "metadata": {},
   "outputs": [
    {
     "name": "stdout",
     "output_type": "stream",
     "text": [
      "Requirement already satisfied: torchsummary in /Users/varsha_jain1/Downloads/erav4/.venv/lib/python3.12/site-packages (1.5.1)\n",
      "\n",
      "\u001b[1m[\u001b[0m\u001b[34;49mnotice\u001b[0m\u001b[1;39;49m]\u001b[0m\u001b[39;49m A new release of pip is available: \u001b[0m\u001b[31;49m24.0\u001b[0m\u001b[39;49m -> \u001b[0m\u001b[32;49m25.2\u001b[0m\n",
      "\u001b[1m[\u001b[0m\u001b[34;49mnotice\u001b[0m\u001b[1;39;49m]\u001b[0m\u001b[39;49m To update, run: \u001b[0m\u001b[32;49mpip install --upgrade pip\u001b[0m\n",
      "----------------------------------------------------------------\n",
      "        Layer (type)               Output Shape         Param #\n",
      "================================================================\n",
      "            Conv2d-1           [-1, 32, 30, 30]             864\n",
      "       BatchNorm2d-2           [-1, 32, 30, 30]              64\n",
      "              ReLU-3           [-1, 32, 30, 30]               0\n",
      "            Conv2d-4           [-1, 32, 28, 28]           9,216\n",
      "       BatchNorm2d-5           [-1, 32, 28, 28]              64\n",
      "              ReLU-6           [-1, 32, 28, 28]               0\n",
      "            Block1-7           [-1, 32, 28, 28]               0\n",
      "            Conv2d-8           [-1, 64, 26, 26]          18,432\n",
      "       BatchNorm2d-9           [-1, 64, 26, 26]             128\n",
      "             ReLU-10           [-1, 64, 26, 26]               0\n",
      "           Conv2d-11           [-1, 64, 24, 24]             576\n",
      "           Conv2d-12           [-1, 64, 12, 12]           4,096\n",
      "      BatchNorm2d-13           [-1, 64, 12, 12]             128\n",
      "             ReLU-14           [-1, 64, 12, 12]               0\n",
      "           Block2-15           [-1, 64, 12, 12]               0\n",
      "           Conv2d-16          [-1, 128, 10, 10]          73,728\n",
      "      BatchNorm2d-17          [-1, 128, 10, 10]             256\n",
      "             ReLU-18          [-1, 128, 10, 10]               0\n",
      "           Conv2d-19            [-1, 128, 8, 8]           1,152\n",
      "           Conv2d-20            [-1, 128, 4, 4]          16,384\n",
      "      BatchNorm2d-21            [-1, 128, 4, 4]             256\n",
      "             ReLU-22            [-1, 128, 4, 4]               0\n",
      "           Block3-23            [-1, 128, 4, 4]               0\n",
      "           Conv2d-24             [-1, 64, 9, 9]          32,768\n",
      "      BatchNorm2d-25             [-1, 64, 9, 9]             128\n",
      "             ReLU-26             [-1, 64, 9, 9]               0\n",
      "           Conv2d-27             [-1, 64, 9, 9]          36,928\n",
      "      BatchNorm2d-28             [-1, 64, 9, 9]             128\n",
      "             ReLU-29             [-1, 64, 9, 9]               0\n",
      "           Block4-30             [-1, 64, 9, 9]               0\n",
      "AdaptiveAvgPool2d-31             [-1, 64, 1, 1]               0\n",
      "          Flatten-32                   [-1, 64]               0\n",
      "          Dropout-33                   [-1, 64]               0\n",
      "           Linear-34                   [-1, 10]             650\n",
      "================================================================\n",
      "Total params: 195,946\n",
      "Trainable params: 195,946\n",
      "Non-trainable params: 0\n",
      "----------------------------------------------------------------\n",
      "Input size (MB): 0.01\n",
      "Forward/backward pass size (MB): 3.67\n",
      "Params size (MB): 0.75\n",
      "Estimated Total Size (MB): 4.43\n",
      "----------------------------------------------------------------\n"
     ]
    }
   ],
   "source": [
    "!pip install torchsummary\n",
    "from torchsummary import summary\n",
    "\n",
    "from model import Model1\n",
    "\n",
    "use_cuda = torch.cuda.is_available()\n",
    "device = torch.device(\"cuda\" if use_cuda else \"cpu\")\n",
    "model = Model1().to(device)\n",
    "summary(model, input_size=(3, 32, 32))"
   ]
  },
  {
   "cell_type": "code",
   "execution_count": null,
   "id": "f567a818",
   "metadata": {},
   "outputs": [],
   "source": []
  }
 ],
 "metadata": {
  "kernelspec": {
   "display_name": ".venv (3.12.2)",
   "language": "python",
   "name": "python3"
  },
  "language_info": {
   "codemirror_mode": {
    "name": "ipython",
    "version": 3
   },
   "file_extension": ".py",
   "mimetype": "text/x-python",
   "name": "python",
   "nbconvert_exporter": "python",
   "pygments_lexer": "ipython3",
   "version": "3.12.2"
  }
 },
 "nbformat": 4,
 "nbformat_minor": 5
}
